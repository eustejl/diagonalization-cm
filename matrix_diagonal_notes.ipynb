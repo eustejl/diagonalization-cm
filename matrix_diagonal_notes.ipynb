{
 "cells": [
  {
   "cell_type": "markdown",
   "id": "919477fc-4f22-4d5f-b94e-cc180f770069",
   "metadata": {},
   "source": [
    "# Matrix diagonalization in Python"
   ]
  },
  {
   "cell_type": "markdown",
   "id": "04cfa659-7dd6-4031-9191-d807b607b4c3",
   "metadata": {},
   "source": [
    "In the Heisenberg formulation of quantum mechanics, an operator can represented as a **matrix** - specifically a hermitian matrix. Diagonalizing hermitian matrices therefore is crucial in condensed matter physics.\n",
    "\n",
    "$$\\mathbf{H}\\Psi = \\mathbf{E}\\Psi$$\n",
    "$$\\Psi^T \\mathbf{H} \\Psi = \\mathbf{E}$$\n",
    "\n",
    "If there are $n$ basis vectors $\\psi_i \\forall i=1,...,N$, then $\\mathbf{H}$ is an $n\\times n$ hermitian matrix in this basis. The diagonal elements of the matrix $\\mathbf{E}$ are the eigenvalues $\\{E_i\\}$."
   ]
  },
  {
   "cell_type": "code",
   "execution_count": 1,
   "id": "e675fccb-a8db-4cd0-8a5a-b30be0d2efc4",
   "metadata": {
    "tags": []
   },
   "outputs": [],
   "source": [
    "import numpy as np\n",
    "import matplotlib.pyplot as plt\n",
    "\n",
    "__author__ = 'JL Euste'"
   ]
  },
  {
   "cell_type": "code",
   "execution_count": 2,
   "id": "c13f6294-12fd-4442-8819-7eefc4411359",
   "metadata": {},
   "outputs": [
    {
     "data": {
      "application/mercury+json": "{\n    \"widget\": \"App\",\n    \"title\": \"Matrix diagonalization\",\n    \"description\": \"Introduction to matrix diagonalization in condensed matter physics\",\n    \"show_code\": true,\n    \"show_prompt\": false,\n    \"output\": \"app\",\n    \"schedule\": \"\",\n    \"notify\": \"{}\",\n    \"continuous_update\": true,\n    \"static_notebook\": false,\n    \"show_sidebar\": true,\n    \"full_screen\": true,\n    \"allow_download\": true,\n    \"stop_on_error\": false,\n    \"model_id\": \"mercury-app\",\n    \"code_uid\": \"App.0.40.25.2-randba32c06b\"\n}",
      "text/html": [
       "<h3>Mercury Application</h3><small>This output won't appear in the web app.</small>"
      ],
      "text/plain": [
       "mercury.App"
      ]
     },
     "metadata": {},
     "output_type": "display_data"
    }
   ],
   "source": [
    "import mercury as mr\n",
    "app = mr.App(title='Matrix diagonalization',\n",
    "             description='Introduction to matrix diagonalization in condensed matter physics',show_code=True)"
   ]
  },
  {
   "cell_type": "markdown",
   "id": "20256ff8-2e44-4c7f-a36d-13a1be6bd16a",
   "metadata": {},
   "source": [
    "Suppose we have the hamiltonian $H$ below in some arbitrary unit; this is actually the two-site Heisenberg hamiltonian in the spin basis $\\{|\\uparrow,\\downarrow>,|\\downarrow,\\uparrow>, |\\uparrow,\\uparrow>,|\\downarrow,\\downarrow>\\}$.\n",
    "\n",
    "Our goal is to obtain the full spectrum. We can calculate the eigenstates and eigenvalues (i.e. energy values) by diagonalizing H."
   ]
  },
  {
   "cell_type": "code",
   "execution_count": 3,
   "id": "c5eff969-9e37-4b08-af98-ab22a22098e6",
   "metadata": {
    "tags": []
   },
   "outputs": [
    {
     "data": {
      "text/plain": [
       "array([[-0.25,  0.5 ,  0.  ,  0.  ],\n",
       "       [ 0.5 , -0.25,  0.  ,  0.  ],\n",
       "       [ 0.  ,  0.  ,  0.25,  0.  ],\n",
       "       [ 0.  ,  0.  ,  0.  ,  0.25]])"
      ]
     },
     "execution_count": 3,
     "metadata": {},
     "output_type": "execute_result"
    }
   ],
   "source": [
    "H = np.array([[-1/4,1/2,0,0],\n",
    "              [1/2,-1/4,0,0], \n",
    "              [0,0,1/4,0], \n",
    "              [0,0,0,1/4]])\n",
    "H"
   ]
  },
  {
   "cell_type": "markdown",
   "id": "0b0d38f6-eb46-4452-af62-c78238ea4bd5",
   "metadata": {},
   "source": [
    "We diagonalize $H$ using `eigh` from the `linalg` library in `scipy`. This gives the eigenvalues in *ascending* order and the *normalized* eigenvectors. Check the documentation for more details."
   ]
  },
  {
   "cell_type": "code",
   "execution_count": 4,
   "id": "0e148fc7-0df2-4143-ae41-87eda2246ae5",
   "metadata": {
    "tags": []
   },
   "outputs": [],
   "source": [
    "from scipy.linalg import eigh\n",
    "eigvals, eigvecs = eigh(H)"
   ]
  },
  {
   "cell_type": "code",
   "execution_count": 5,
   "id": "08370c1d-b1cc-4d5e-a672-371cefdcb866",
   "metadata": {
    "tags": []
   },
   "outputs": [
    {
     "data": {
      "text/plain": [
       "array([-0.75,  0.25,  0.25,  0.25])"
      ]
     },
     "execution_count": 5,
     "metadata": {},
     "output_type": "execute_result"
    }
   ],
   "source": [
    "eigvals"
   ]
  },
  {
   "cell_type": "markdown",
   "id": "b2b4d84d-902b-482b-84cc-5f60ed87e4b6",
   "metadata": {},
   "source": [
    "The `eigvals` contains the eigenvalues in ascending order. We see that ground state (GS) energy is -3/4 while the excited state is triply degenerate with energy 1/4. But which state correponds to which energy level? We now look at the eigenvectors `eigvecs`."
   ]
  },
  {
   "cell_type": "code",
   "execution_count": 6,
   "id": "75ea456b-c33b-4555-a002-30a439a970e3",
   "metadata": {
    "tags": []
   },
   "outputs": [
    {
     "data": {
      "text/plain": [
       "array([[ 0.70710678,  0.70710678,  0.        ,  0.        ],\n",
       "       [-0.70710678,  0.70710678,  0.        ,  0.        ],\n",
       "       [ 0.        ,  0.        ,  1.        ,  0.        ],\n",
       "       [ 0.        ,  0.        ,  0.        ,  1.        ]])"
      ]
     },
     "execution_count": 6,
     "metadata": {},
     "output_type": "execute_result"
    }
   ],
   "source": [
    "eigvecs"
   ]
  },
  {
   "cell_type": "markdown",
   "id": "d4c97310-5e34-481b-b19d-e0cedd73c5d4",
   "metadata": {},
   "source": [
    "Each column is an eigenvector corresponding to the eigenvalue of the same index so the first column gives the coefficients of the basis states in the GS while the last three columns in the excited state. We write a short function to neatly display the eigenvectors and corresponding eigenvalues $E$."
   ]
  },
  {
   "cell_type": "code",
   "execution_count": 7,
   "id": "43b367b6-5b08-4edc-b877-4414a898cc8c",
   "metadata": {
    "tags": []
   },
   "outputs": [],
   "source": [
    "def display_eigen(eigen):\n",
    "  '''Display each eigenvector with its corresponding eigenvalue.'''\n",
    "  for i in range(len(eigen[0])):\n",
    "    print(f'eigenvector {eigen[1][:,i]}  with E = {eigen[0][i]:.3f}')"
   ]
  },
  {
   "cell_type": "code",
   "execution_count": 8,
   "id": "023e5b48-14a9-440e-b072-d3d85c3d3e20",
   "metadata": {
    "tags": []
   },
   "outputs": [
    {
     "name": "stdout",
     "output_type": "stream",
     "text": [
      "eigenvector [ 0.70710678 -0.70710678  0.          0.        ]  with E = -0.750\n",
      "eigenvector [0.70710678 0.70710678 0.         0.        ]  with E = 0.250\n",
      "eigenvector [0. 0. 1. 0.]  with E = 0.250\n",
      "eigenvector [0. 0. 0. 1.]  with E = 0.250\n"
     ]
    }
   ],
   "source": [
    "display_eigen([eigvals,eigvecs])"
   ]
  },
  {
   "cell_type": "markdown",
   "id": "94bfcc04-9a1f-48c3-a674-6d14484fd216",
   "metadata": {
    "tags": []
   },
   "source": [
    "The eigenvectors are eigenstate which we can write in terms of the basis vectors. Note: $0.70710678=\\frac{1}{\\sqrt{2}}$\n",
    "\n",
    "For example, the GS is\n",
    "$|GS> = \\frac{1}{\\sqrt{2}}|\\uparrow,\\downarrow> - \\frac{1}{\\sqrt{2}}|\\downarrow,\\uparrow> + 0|\\uparrow,\\uparrow> + 0|\\downarrow,\\downarrow> = \\frac{1}{\\sqrt{2}}(|\\uparrow,\\downarrow> - |\\downarrow,\\uparrow>) $\n",
    "\n",
    "Therefore, the ground state is the singlet while the excited states are the triplet states:\n",
    "\n",
    "$|\\psi> = \\frac{1}{\\sqrt{2}}( |\\downarrow,\\uparrow> + |\\uparrow,\\downarrow>) $;   \n",
    "$|\\psi> = |\\uparrow,\\uparrow>$;   \n",
    "$|\\psi> = |\\downarrow,\\downarrow>$.\n"
   ]
  },
  {
   "cell_type": "code",
   "execution_count": 9,
   "id": "a4c69e5d-7921-428c-bb43-065745c5b93e",
   "metadata": {
    "tags": []
   },
   "outputs": [
    {
     "data": {
      "text/plain": [
       "array([[-7.50000000e-01,  1.11022302e-16,  0.00000000e+00,\n",
       "         0.00000000e+00],\n",
       "       [ 1.38777878e-16,  2.50000000e-01,  0.00000000e+00,\n",
       "         0.00000000e+00],\n",
       "       [ 0.00000000e+00,  0.00000000e+00,  2.50000000e-01,\n",
       "         0.00000000e+00],\n",
       "       [ 0.00000000e+00,  0.00000000e+00,  0.00000000e+00,\n",
       "         2.50000000e-01]])"
      ]
     },
     "execution_count": 9,
     "metadata": {},
     "output_type": "execute_result"
    }
   ],
   "source": [
    "eigvecs.T @ H @ eigvecs"
   ]
  },
  {
   "cell_type": "markdown",
   "id": "2d2f412b-e545-4f3c-a44a-6308af296f26",
   "metadata": {
    "tags": []
   },
   "source": [
    "***"
   ]
  },
  {
   "cell_type": "markdown",
   "id": "eece17b8-1070-415e-8739-cebfe89bf471",
   "metadata": {},
   "source": [
    "ADDENDUM: We use scipy's `eigh` function instead of that from numpy because the former seems more reliable (for reasons I'm not sure). Below we compare the diagonalization of the `sample` matrix using numpy and scipy."
   ]
  },
  {
   "cell_type": "code",
   "execution_count": 10,
   "id": "4a56344e-2770-450e-b0a3-6601857959fc",
   "metadata": {
    "tags": []
   },
   "outputs": [],
   "source": [
    "sample = np.array([[ 0. , -0.5,  0. ,  0. ,  0. , -0.5,  0. ,  0. ],\n",
    "       [-0.5,  0. , -0.5,  0. ,  0.5,  0. , -0.5,  0. ],\n",
    "       [ 0. , -0.5,  0. , -0.5,  0. ,  0.5,  0. , -0.5],\n",
    "       [ 0. ,  0. , -0.5,  0. ,  0. ,  0. ,  0.5,  0. ],\n",
    "       [ 0. ,  0.5,  0. ,  0. ,  0. ,  0.5,  0. ,  0. ],\n",
    "       [-0.5,  0. ,  0.5,  0. ,  0.5,  0. ,  0.5,  0. ],\n",
    "       [ 0. , -0.5,  0. ,  0.5,  0. ,  0.5,  0. ,  0.5],\n",
    "       [ 0. ,  0. , -0.5,  0. ,  0. ,  0. ,  0.5,  0. ]])\n",
    "np.set_printoptions(suppress=True,precision=2) #for neat formatting of array elements"
   ]
  },
  {
   "cell_type": "markdown",
   "id": "f4702f9f-db52-4363-8447-8cb54eadbcbd",
   "metadata": {
    "tags": []
   },
   "source": [
    "*Numpy*"
   ]
  },
  {
   "cell_type": "code",
   "execution_count": 11,
   "id": "0d31a1f8-4f8d-40e4-b0f0-7ecf207ed1e9",
   "metadata": {
    "tags": []
   },
   "outputs": [
    {
     "name": "stdout",
     "output_type": "stream",
     "text": [
      "eigenvector [ 0.19 -0.21 -0.19  0.22 -0.19  0.6  -0.63  0.22]  with E = -1.000\n",
      "eigenvector [ 0.46  0.63  0.08 -0.09 -0.46  0.29  0.26 -0.09]  with E = -1.000\n",
      "eigenvector [-0.    0.23  0.68  0.44  0.   -0.24 -0.2   0.44]  with E = -1.000\n",
      "eigenvector [ 0.71 -0.    0.   -0.    0.71 -0.    0.   -0.  ]  with E = -0.000\n",
      "eigenvector [-0.    0.   -0.   -0.71  0.    0.    0.    0.71]  with E = -0.000\n",
      "eigenvector [ 0.    0.1  -0.59  0.49  0.   -0.1   0.39  0.49]  with E = 1.000\n",
      "eigenvector [-0.5  0.5  0.   0.   0.5  0.5 -0.   0. ]  with E = 1.000\n",
      "eigenvector [-0.   -0.49  0.39  0.1  -0.    0.49  0.59  0.1 ]  with E = 1.000\n"
     ]
    }
   ],
   "source": [
    "np_eigvals,np_eigvecs = np.linalg.eigh(sample)\n",
    "display_eigen([np_eigvals,np_eigvecs])"
   ]
  },
  {
   "cell_type": "markdown",
   "id": "542d0dee-c7b8-4836-9bf2-014c69a661e6",
   "metadata": {},
   "source": [
    "*Scipy*"
   ]
  },
  {
   "cell_type": "code",
   "execution_count": 12,
   "id": "73f13439-9668-4cd3-801f-78e3ca0a0679",
   "metadata": {
    "tags": []
   },
   "outputs": [
    {
     "name": "stdout",
     "output_type": "stream",
     "text": [
      "eigenvector [ 0.   0.  -0.5 -0.5  0.   0.   0.5 -0.5]  with E = -1.000\n",
      "eigenvector [ 0.  -0.5 -0.5  0.   0.   0.5 -0.5  0. ]  with E = -1.000\n",
      "eigenvector [-0.5 -0.5  0.   0.   0.5 -0.5  0.   0. ]  with E = -1.000\n",
      "eigenvector [-0.71  0.   -0.    0.   -0.71  0.   -0.    0.  ]  with E = 0.000\n",
      "eigenvector [ 0.    0.    0.   -0.71 -0.    0.   -0.    0.71]  with E = 0.000\n",
      "eigenvector [ 0.   0.   0.5 -0.5 -0.   0.  -0.5 -0.5]  with E = 1.000\n",
      "eigenvector [ 0.  -0.5  0.5  0.  -0.   0.5  0.5  0. ]  with E = 1.000\n",
      "eigenvector [ 0.5 -0.5 -0.   0.  -0.5 -0.5 -0.   0. ]  with E = 1.000\n"
     ]
    }
   ],
   "source": [
    "sp_eigvals,sp_eigvecs = eigh(sample)\n",
    "display_eigen([sp_eigvals,sp_eigvecs])"
   ]
  },
  {
   "cell_type": "markdown",
   "id": "66467e75-f961-49c4-a3bb-1f60492828f5",
   "metadata": {
    "tags": []
   },
   "source": [
    "Notes on comparing scipy and numpy eigendecompositions:\n",
    "- Eigenvalues are the same and order in ascending order by default.\n",
    "- Eigenvectors are both normalized and correct.\n",
    "- Eigenvectors generated from scipy, however, are \"simpler\". For instance, the first eigenvector from numpy is $[ 0.19,-0.21,-0.19,0.22,-0.19,0.6,-0.63,0.22]$ while the one from scipy can be written as $[0,0,-\\frac{1}{2},-\\frac{1}{2},0,0,\\frac{1}{2},-\\frac{1}{2}]$ "
   ]
  },
  {
   "cell_type": "markdown",
   "id": "ddd1e1cd-3cb0-4f24-914b-be1caa0b6b19",
   "metadata": {},
   "source": [
    "***"
   ]
  }
 ],
 "metadata": {
  "kernelspec": {
   "display_name": "Python 3 (ipykernel)",
   "language": "python",
   "name": "python3"
  },
  "language_info": {
   "codemirror_mode": {
    "name": "ipython",
    "version": 3
   },
   "file_extension": ".py",
   "mimetype": "text/x-python",
   "name": "python",
   "nbconvert_exporter": "python",
   "pygments_lexer": "ipython3",
   "version": "3.9.16"
  }
 },
 "nbformat": 4,
 "nbformat_minor": 5
}
